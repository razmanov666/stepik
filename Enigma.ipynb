{
 "cells": [
  {
   "cell_type": "code",
   "execution_count": 1,
   "id": "a1662b2e",
   "metadata": {},
   "outputs": [],
   "source": [
    "rotors = {0: 'ABCDEFGHIJKLMNOPQRSTUVWXYZ',\n",
    "          1: 'EKMFLGDQVZNTOWYHXUSPAIBRCJ',\n",
    "          2: 'AJDKSIRUXBLHWTMCQGZNPYFVOE',\n",
    "          3: 'BDFHJLCPRTXVZNYEIWGAKMUSQO',\n",
    "          4: 'ESOVPZJAYQUIRHXLNFTGKDCMWB',\n",
    "          5: 'VZBRGITYUPSDNHLXAWMJQOFECK',\n",
    "          6: 'JPGVOUMFYQBENHZRDKASXLICTW',\n",
    "          7: 'NZJHGRCXMYSWBOUFAIVLPEKQDT', \n",
    "          8: 'FKQHTLXOCBJSPDZRAMEWNIUYGV',\n",
    "          'beta': 'LEYJVCNIXWPBQMDRTAKZGFUHOS',\n",
    "          'gamma': 'FSOKANUERHMBTIYCWLQPZXVGJD'\n",
    "          }\n",
    "\n",
    "reflectors = {0: 'ABCDEFGHIJKLMNOPQRSTUVWXYZ',\n",
    "              1: 'YRUHQSLDPXNGOKMIEBFZCWVJAT',\n",
    "              2: 'FVPJIAOYEDRZXWGCTKUQSBNMHL',\n",
    "              3: 'ENKQAUYWJICOPBLMDXZVFTHRGS',\n",
    "              4: 'RDOBJNTKVEHMLFCWZAXGYIPSUQ',\n",
    "              }"
   ]
  },
  {
   "cell_type": "code",
   "execution_count": 2,
   "id": "4363063b",
   "metadata": {},
   "outputs": [],
   "source": [
    "def rotor(symbol, n, reverse=False):\n",
    "    cur_rotor_dict = {}\n",
    "    if not reverse:\n",
    "        cur_rotor_dict = dict((i,j) for i,j in zip(rotors[0], rotors[n]))\n",
    "    else:\n",
    "        cur_rotor_dict = dict((j,i) for i,j in zip(rotors[0], rotors[n]))    \n",
    "    symbol = [char.upper() for char in symbol if char.upper() in cur_rotor_dict.values()]\n",
    "    for i in range(len(symbol)):\n",
    "        symbol[i] = cur_rotor_dict[symbol[i]]\n",
    "    return ''.join(symbol)"
   ]
  },
  {
   "cell_type": "code",
   "execution_count": 3,
   "id": "3479f637",
   "metadata": {},
   "outputs": [],
   "source": [
    "text = 'ABCDEFGHIJKLMNOPQRSTUVWXYZ'\n",
    "disk = 1"
   ]
  },
  {
   "cell_type": "code",
   "execution_count": 4,
   "id": "1e00eace",
   "metadata": {},
   "outputs": [],
   "source": [
    "# rotor(text, disk)"
   ]
  },
  {
   "cell_type": "code",
   "execution_count": 5,
   "id": "e55109c1",
   "metadata": {},
   "outputs": [],
   "source": [
    "def reflector(symbol, n):\n",
    "    cur_rotor_dict = {}\n",
    "    cur_rotor_dict = dict((i,j) for i,j in zip(reflectors[0], reflectors[n]))  \n",
    "    symbol = [char.upper() for char in symbol if char.upper() in cur_rotor_dict.values()]\n",
    "    for i in range(len(symbol)):\n",
    "        symbol[i] = cur_rotor_dict[symbol[i]]\n",
    "    return ''.join(symbol)"
   ]
  },
  {
   "cell_type": "code",
   "execution_count": 6,
   "id": "b50c8918",
   "metadata": {},
   "outputs": [],
   "source": [
    "# reflector(text, 1)"
   ]
  },
  {
   "cell_type": "code",
   "execution_count": 7,
   "id": "87d2cf3a",
   "metadata": {},
   "outputs": [],
   "source": [
    "def enigma_1(text, ref, rot1, rot2, rot3):\n",
    "    cur_rotors = [rot1, rot2, rot3]\n",
    "    text = [x.upper() for x in text if x.upper() in reflectors[ref]] \n",
    "    for i in range(len(text)):\n",
    "#         print(text[i])\n",
    "        for x in cur_rotors[::-1]: \n",
    "            text[i] = rotor(text[i], x)\n",
    "#             print(text[i])\n",
    "        text[i] = reflector(text[i], ref)\n",
    "        for x in cur_rotors:\n",
    "            text[i] = rotor(text[i], x, True)\n",
    "#             print(text[i])\n",
    "    return ''.join(text)"
   ]
  },
  {
   "cell_type": "code",
   "execution_count": 8,
   "id": "e98078ba",
   "metadata": {},
   "outputs": [],
   "source": [
    "# enigma_1('A', 1, 1, 2, 3)"
   ]
  },
  {
   "cell_type": "code",
   "execution_count": 9,
   "id": "7bbcd4e6",
   "metadata": {},
   "outputs": [],
   "source": [
    "# enigma_1('WZYMMABVKQDMIDMJD', 1, 1, 2, 3)"
   ]
  },
  {
   "cell_type": "code",
   "execution_count": 26,
   "id": "e2623f0e",
   "metadata": {},
   "outputs": [],
   "source": [
    "def enigma_2(text, ref, rot1, shift1, rot2, shift2, rot3, shift3):\n",
    "    cur_rotors, shifts = [rot1, rot2, rot3], [shift1, shift2, shift3]\n",
    "    text = [x.upper() for x in text if x.upper() in reflectors[ref]] \n",
    "    for i in range(len(text)):\n",
    "        text[i] = shifting_rotors(cur_rotors[::-1], shifts[::-1], text[i])        \n",
    "        text[i] = reflector(text[i], ref)\n",
    "        text[i] = shifting_rotors(cur_rotors, shifts, text[i], True)\n",
    "    return ''.join(text)\n",
    "\n",
    "def shifting_rotors(cur_rotors, shifts, text, reverse=False):\n",
    "    for rot, shift in zip(cur_rotors, shifts): \n",
    "        new_char = rotors[0].index(text) + shift\n",
    "        text = rotor(rotors[0][new_char % len(rotors[0])], rot, reverse)\n",
    "        print(text, end=' -> ')\n",
    "        new_char = rotors[0].index(text) - shift\n",
    "        text = rotor(rotors[0][new_char % len(rotors[0])], 0, reverse)\n",
    "        print(text, end=' -> ')\n",
    "    return text"
   ]
  },
  {
   "cell_type": "code",
   "execution_count": 27,
   "id": "eed5c3db",
   "metadata": {},
   "outputs": [],
   "source": [
    "# enigma_2('Some encripted text', 1, 1, 1, 2, 2, 3, 1)"
   ]
  },
  {
   "cell_type": "code",
   "execution_count": 185,
   "id": "7f6c1335",
   "metadata": {},
   "outputs": [],
   "source": [
    "def enigma_3(text, ref, rot1, shift1, rot2, shift2, rot3, shift3):\n",
    "    cur_rotors, shifts = [rot1, rot2, rot3], [shift1, shift2, shift3]\n",
    "    text = [x.upper() for x in text if x.upper() in reflectors[ref]] \n",
    "    for i in range(len(text)):\n",
    "        shifts = update_shifts(shifts, len(rotors[0]), cur_rotors)\n",
    "        print(text[i], end=' -> ')\n",
    "        text[i] = shifting_rotors(cur_rotors[::-1], shifts[::-1], text[i])\n",
    "        print(text[i], end=' -> ')\n",
    "        text[i] = reflector(text[i], ref)\n",
    "        print(text[i], end=' -> ')\n",
    "        text[i] = shifting_rotors(cur_rotors, shifts, text[i], True)\n",
    "        print(text[i], end='\\n')\n",
    "    return ''.join(text)\n",
    "\n",
    "def update_shifts(shifts, len_alphabet, cur_rotors):\n",
    "    shifts[-1] += 1\n",
    "    old_shift = shifts[1]\n",
    "    shifts, cur_rotors = shifts[::-1], cur_rotors[::-1]\n",
    "    print(shifts)\n",
    "    rotors_shifts = {1: 17, 2: 5, 3: 22, 4: 10}\n",
    "    for i in range(len(shifts)):\n",
    "#         if i == 1 and shifts[i] != 0 and (shifts[i] % (rotors_shifts[cur_rotors[i]] - 1) == 0):\n",
    "#             if i + 1 < len(shifts): \n",
    "#                 shifts[i+1] += 1\n",
    "#         elif shifts[i] or (shifts[i] % (rotors_shifts[cur_rotors[i]]) == 0):\n",
    "#             if i + 1 < len(shifts): \n",
    "#                 shifts[i+1] += 1\n",
    "        cur_shift = rotors_shifts[cur_rotors[i]] \n",
    "        if shifts[i] % cur_shift == 0 and shifts[i] != 0:\n",
    "            if len(shifts) > i + 1:\n",
    "                shifts[i+1] += 1\n",
    "        \n",
    "    return shifts[::-1] "
   ]
  },
  {
   "cell_type": "code",
   "execution_count": 186,
   "id": "9224d979",
   "metadata": {
    "scrolled": false
   },
   "outputs": [
    {
     "name": "stdout",
     "output_type": "stream",
     "text": [
      "[4, 3, 3]\n",
      "A -> S -> O -> G -> D -> R -> O -> O -> M -> U -> R -> H -> E -> F -> B -> B\n",
      "[5, 3, 3]\n",
      "A -> I -> D -> U -> Q -> N -> K -> K -> N -> Q -> N -> G -> C -> L -> G -> G\n",
      "[6, 4, 3]\n",
      "A -> R -> L -> C -> Y -> D -> Z -> Z -> T -> I -> E -> F -> B -> L -> F -> F\n",
      "[7, 4, 4]\n",
      "A -> U -> N -> G -> C -> U -> P -> P -> I -> T -> O -> E -> A -> L -> E -> E\n",
      "[8, 4, 5]\n",
      "A -> X -> P -> N -> J -> C -> W -> W -> V -> J -> D -> L -> H -> U -> M -> M\n",
      "[9, 4, 6]\n",
      "A -> B -> S -> F -> B -> X -> Q -> Q -> E -> K -> D -> L -> H -> Q -> H -> H\n",
      "[10, 4, 7]\n",
      "A -> L -> B -> R -> M -> P -> H -> H -> D -> K -> C -> L -> G -> Q -> G -> G\n"
     ]
    },
    {
     "data": {
      "text/plain": [
       "'BGFEMHG'"
      ]
     },
     "execution_count": 186,
     "metadata": {},
     "output_type": "execute_result"
    }
   ],
   "source": [
    "enigma_3('AAAAAAA', 1, 2, 3, 2, 3, 2, 3)"
   ]
  },
  {
   "cell_type": "code",
   "execution_count": 168,
   "id": "bbdc8b7b",
   "metadata": {},
   "outputs": [
    {
     "data": {
      "text/plain": [
       "2"
      ]
     },
     "execution_count": 168,
     "metadata": {},
     "output_type": "execute_result"
    }
   ],
   "source": [
    "2 % 4"
   ]
  },
  {
   "cell_type": "code",
   "execution_count": 110,
   "id": "6b285dfe",
   "metadata": {},
   "outputs": [
    {
     "data": {
      "text/plain": [
       "2"
      ]
     },
     "execution_count": 110,
     "metadata": {},
     "output_type": "execute_result"
    }
   ],
   "source": [
    "2 % 5"
   ]
  },
  {
   "cell_type": "code",
   "execution_count": 111,
   "id": "a737fc74",
   "metadata": {},
   "outputs": [
    {
     "data": {
      "text/plain": [
       "4"
      ]
     },
     "execution_count": 111,
     "metadata": {},
     "output_type": "execute_result"
    }
   ],
   "source": [
    "10 % 6"
   ]
  },
  {
   "cell_type": "code",
   "execution_count": 112,
   "id": "f10facd9",
   "metadata": {},
   "outputs": [
    {
     "data": {
      "text/plain": [
       "1"
      ]
     },
     "execution_count": 112,
     "metadata": {},
     "output_type": "execute_result"
    }
   ],
   "source": [
    "1 % 4"
   ]
  },
  {
   "cell_type": "code",
   "execution_count": 113,
   "id": "9320c73e",
   "metadata": {},
   "outputs": [
    {
     "data": {
      "text/plain": [
       "1"
      ]
     },
     "execution_count": 113,
     "metadata": {},
     "output_type": "execute_result"
    }
   ],
   "source": [
    "1 % 16"
   ]
  },
  {
   "cell_type": "code",
   "execution_count": null,
   "id": "9e25f47b",
   "metadata": {},
   "outputs": [],
   "source": []
  }
 ],
 "metadata": {
  "kernelspec": {
   "display_name": "Python 3 (ipykernel)",
   "language": "python",
   "name": "python3"
  },
  "language_info": {
   "codemirror_mode": {
    "name": "ipython",
    "version": 3
   },
   "file_extension": ".py",
   "mimetype": "text/x-python",
   "name": "python",
   "nbconvert_exporter": "python",
   "pygments_lexer": "ipython3",
   "version": "3.9.12"
  }
 },
 "nbformat": 4,
 "nbformat_minor": 5
}
