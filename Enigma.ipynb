{
 "cells": [
  {
   "cell_type": "code",
   "execution_count": 6,
   "id": "a1662b2e",
   "metadata": {},
   "outputs": [],
   "source": [
    "rotors = {0: 'ABCDEFGHIJKLMNOPQRSTUVWXYZ',\n",
    "          1: 'EKMFLGDQVZNTOWYHXUSPAIBRCJ',\n",
    "          2: 'AJDKSIRUXBLHWTMCQGZNPYFVOE',\n",
    "          3: 'BDFHJLCPRTXVZNYEIWGAKMUSQO',\n",
    "          4: 'ESOVPZJAYQUIRHXLNFTGKDCMWB',\n",
    "          5: 'VZBRGITYUPSDNHLXAWMJQOFECK',\n",
    "          6: 'JPGVOUMFYQBENHZRDKASXLICTW',\n",
    "          7: 'NZJHGRCXMYSWBOUFAIVLPEKQDT', \n",
    "          8: 'FKQHTLXOCBJSPDZRAMEWNIUYGV',\n",
    "          'beta': 'LEYJVCNIXWPBQMDRTAKZGFUHOS',\n",
    "          'gamma': 'FSOKANUERHMBTIYCWLQPZXVGJD'\n",
    "          }\n",
    "\n",
    "reflectors = {0: 'ABCDEFGHIJKLMNOPQRSTUVWXYZ',\n",
    "              1: 'YRUHQSLDPXNGOKMIEBFZCWVJAT',\n",
    "              2: 'FVPJIAOYEDRZXWGCTKUQSBNMHL',\n",
    "              3: 'ENKQAUYWJICOPBLMDXZVFTHRGS',\n",
    "              4: 'RDOBJNTKVEHMLFCWZAXGYIPSUQ',\n",
    "              }"
   ]
  },
  {
   "cell_type": "code",
   "execution_count": 7,
   "id": "4363063b",
   "metadata": {},
   "outputs": [],
   "source": [
    "def rotor(symbol, n, reverse=False):\n",
    "    cur_rotor_dict = {}\n",
    "    if not reverse:\n",
    "        cur_rotor_dict = dict((i,j) for i,j in zip(rotors[0], rotors[n]))\n",
    "    else:\n",
    "        cur_rotor_dict = dict((j,i) for i,j in zip(rotors[0], rotors[n]))    \n",
    "    symbol = [char.upper() for char in symbol if char.upper() in cur_rotor_dict.values()]\n",
    "    for i in range(len(symbol)):\n",
    "        symbol[i] = cur_rotor_dict[symbol[i]]\n",
    "    return ''.join(symbol)"
   ]
  },
  {
   "cell_type": "code",
   "execution_count": 8,
   "id": "3479f637",
   "metadata": {},
   "outputs": [],
   "source": [
    "text = 'ABCDEFGHIJKLMNOPQRSTUVWXYZ'\n",
    "disk = 1"
   ]
  },
  {
   "cell_type": "code",
   "execution_count": 9,
   "id": "1e00eace",
   "metadata": {},
   "outputs": [
    {
     "data": {
      "text/plain": [
       "'EKMFLGDQVZNTOWYHXUSPAIBRCJ'"
      ]
     },
     "execution_count": 9,
     "metadata": {},
     "output_type": "execute_result"
    }
   ],
   "source": [
    "rotor(text, disk)"
   ]
  },
  {
   "cell_type": "code",
   "execution_count": 11,
   "id": "e55109c1",
   "metadata": {},
   "outputs": [],
   "source": [
    "def reflector(symbol, n):\n",
    "    cur_rotor_dict = {}\n",
    "    cur_rotor_dict = dict((i,j) for i,j in zip(reflectors[0], reflectors[n]))  \n",
    "    symbol = [char.upper() for char in symbol if char.upper() in cur_rotor_dict.values()]\n",
    "    for i in range(len(symbol)):\n",
    "        symbol[i] = cur_rotor_dict[symbol[i]]\n",
    "    return ''.join(symbol)"
   ]
  },
  {
   "cell_type": "code",
   "execution_count": 12,
   "id": "b50c8918",
   "metadata": {},
   "outputs": [
    {
     "data": {
      "text/plain": [
       "'YRUHQSLDPXNGOKMIEBFZCWVJAT'"
      ]
     },
     "execution_count": 12,
     "metadata": {},
     "output_type": "execute_result"
    }
   ],
   "source": [
    "reflector(text, 1)"
   ]
  },
  {
   "cell_type": "code",
   "execution_count": 62,
   "id": "87d2cf3a",
   "metadata": {},
   "outputs": [],
   "source": [
    "def enigma_1(text, ref, rot1, rot2, rot3):\n",
    "    cur_rotors = [rot1, rot2, rot3]\n",
    "    text = [x.upper() for x in text if x.upper() in reflectors[ref]] \n",
    "    for i in range(len(text)):\n",
    "#         print(text[i])\n",
    "        for x in cur_rotors[::-1]: \n",
    "            text[i] = rotor(text[i], x)\n",
    "#             print(text[i])\n",
    "        text[i] = reflector(text[i], ref)\n",
    "        for x in cur_rotors:\n",
    "            text[i] = rotor(text[i], x, True)\n",
    "#             print(text[i])\n",
    "    return ''.join(text)"
   ]
  },
  {
   "cell_type": "code",
   "execution_count": 63,
   "id": "e98078ba",
   "metadata": {},
   "outputs": [
    {
     "data": {
      "text/plain": [
       "'U'"
      ]
     },
     "execution_count": 63,
     "metadata": {},
     "output_type": "execute_result"
    }
   ],
   "source": [
    "enigma_1('A', 1, 1, 2, 3)"
   ]
  },
  {
   "cell_type": "code",
   "execution_count": 65,
   "id": "7bbcd4e6",
   "metadata": {},
   "outputs": [
    {
     "data": {
      "text/plain": [
       "'IHXRRUEQNVORWORCO'"
      ]
     },
     "execution_count": 65,
     "metadata": {},
     "output_type": "execute_result"
    }
   ],
   "source": [
    "enigma_1('WZYMMABVKQDMIDMJD', 1, 1, 2, 3)"
   ]
  },
  {
   "cell_type": "code",
   "execution_count": 165,
   "id": "e2623f0e",
   "metadata": {},
   "outputs": [],
   "source": [
    "def enigma(text, ref, rot1, shift1, rot2, shift2, rot3, shift3):\n",
    "    cur_rotors, shifts = [rot1, rot2, rot3], [shift1, shift2, shift3]\n",
    "    text = [x.upper() for x in text if x.upper() in reflectors[ref]] \n",
    "    for i in range(len(text)):\n",
    "        for rot, shift in zip(cur_rotors[::-1], shifts[::-1]):\n",
    "            new_char = rotors[0].index(text[i]) + shift  \n",
    "            print(new_char)\n",
    "            text[i] = rotor(rotors[0][new_char % len(rotors[0])], rot)\n",
    "            new_char = rotors[0].index(text[i]) - shift\n",
    "            text[i] = rotor(rotors[0][new_char % len(rotors[0])], 0)\n",
    "            \n",
    "        text[i] = reflector(text[i], ref)\n",
    "        \n",
    "        for rot, shift in zip(cur_rotors, shifts): \n",
    "            new_char = rotors[0].index(text[i]) + shift\n",
    "            text[i] = rotor(rotors[0][new_char % len(rotors[0])], rot, True)\n",
    "            new_char = rotors[0].index(text[i]) - shift\n",
    "            text[i] = rotor(rotors[0][new_char % len(rotors[0])], 0, True)\n",
    "    return ''.join(text)"
   ]
  },
  {
   "cell_type": "code",
   "execution_count": 166,
   "id": "eed5c3db",
   "metadata": {},
   "outputs": [
    {
     "name": "stdout",
     "output_type": "stream",
     "text": [
      "1\n",
      "4\n",
      "17\n"
     ]
    },
    {
     "data": {
      "text/plain": [
       "'Q'"
      ]
     },
     "execution_count": 166,
     "metadata": {},
     "output_type": "execute_result"
    }
   ],
   "source": [
    "enigma('A', 1, 1, 1, 2, 2, 3, 1)"
   ]
  },
  {
   "cell_type": "code",
   "execution_count": null,
   "id": "7f6c1335",
   "metadata": {},
   "outputs": [],
   "source": []
  }
 ],
 "metadata": {
  "kernelspec": {
   "display_name": "Python 3 (ipykernel)",
   "language": "python",
   "name": "python3"
  },
  "language_info": {
   "codemirror_mode": {
    "name": "ipython",
    "version": 3
   },
   "file_extension": ".py",
   "mimetype": "text/x-python",
   "name": "python",
   "nbconvert_exporter": "python",
   "pygments_lexer": "ipython3",
   "version": "3.9.12"
  }
 },
 "nbformat": 4,
 "nbformat_minor": 5
}
