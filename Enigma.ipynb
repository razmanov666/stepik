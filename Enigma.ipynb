{
 "cells": [
  {
   "cell_type": "code",
   "execution_count": 1,
   "id": "a1662b2e",
   "metadata": {},
   "outputs": [],
   "source": [
    "rotors = {0: 'ABCDEFGHIJKLMNOPQRSTUVWXYZ',\n",
    "          1: 'EKMFLGDQVZNTOWYHXUSPAIBRCJ',\n",
    "          2: 'AJDKSIRUXBLHWTMCQGZNPYFVOE',\n",
    "          3: 'BDFHJLCPRTXVZNYEIWGAKMUSQO',\n",
    "          4: 'ESOVPZJAYQUIRHXLNFTGKDCMWB',\n",
    "          5: 'VZBRGITYUPSDNHLXAWMJQOFECK',\n",
    "          6: 'JPGVOUMFYQBENHZRDKASXLICTW',\n",
    "          7: 'NZJHGRCXMYSWBOUFAIVLPEKQDT', \n",
    "          8: 'FKQHTLXOCBJSPDZRAMEWNIUYGV',\n",
    "          'beta': 'LEYJVCNIXWPBQMDRTAKZGFUHOS',\n",
    "          'gamma': 'FSOKANUERHMBTIYCWLQPZXVGJD'\n",
    "          }\n",
    "\n",
    "reflectors = {0: 'ABCDEFGHIJKLMNOPQRSTUVWXYZ',\n",
    "              1: 'YRUHQSLDPXNGOKMIEBFZCWVJAT',\n",
    "              2: 'FVPJIAOYEDRZXWGCTKUQSBNMHL',\n",
    "              3: 'ENKQAUYWJICOPBLMDXZVFTHRGS',\n",
    "              4: 'RDOBJNTKVEHMLFCWZAXGYIPSUQ',\n",
    "              }"
   ]
  },
  {
   "cell_type": "code",
   "execution_count": 2,
   "id": "4363063b",
   "metadata": {},
   "outputs": [],
   "source": [
    "def rotor(symbol, n, reverse=False):\n",
    "    cur_rotor_dict = {}\n",
    "    if not reverse:\n",
    "        cur_rotor_dict = dict((i,j) for i,j in zip(rotors[0], rotors[n]))\n",
    "    else:\n",
    "        cur_rotor_dict = dict((j,i) for i,j in zip(rotors[0], rotors[n]))    \n",
    "    symbol = [char.upper() for char in symbol if char.upper() in cur_rotor_dict.values()]\n",
    "    for i in range(len(symbol)):\n",
    "        symbol[i] = cur_rotor_dict[symbol[i]]\n",
    "    return ''.join(symbol)"
   ]
  },
  {
   "cell_type": "code",
   "execution_count": 3,
   "id": "3479f637",
   "metadata": {},
   "outputs": [],
   "source": [
    "text = 'ABCDEFGHIJKLMNOPQRSTUVWXYZ'\n",
    "disk = 1"
   ]
  },
  {
   "cell_type": "code",
   "execution_count": 4,
   "id": "1e00eace",
   "metadata": {},
   "outputs": [],
   "source": [
    "# rotor(text, disk)"
   ]
  },
  {
   "cell_type": "code",
   "execution_count": 5,
   "id": "e55109c1",
   "metadata": {},
   "outputs": [],
   "source": [
    "def reflector(symbol, n):\n",
    "    cur_rotor_dict = {}\n",
    "    cur_rotor_dict = dict((i,j) for i,j in zip(reflectors[0], reflectors[n]))  \n",
    "    symbol = [char.upper() for char in symbol if char.upper() in cur_rotor_dict.values()]\n",
    "    for i in range(len(symbol)):\n",
    "        symbol[i] = cur_rotor_dict[symbol[i]]\n",
    "    return ''.join(symbol)"
   ]
  },
  {
   "cell_type": "code",
   "execution_count": 6,
   "id": "b50c8918",
   "metadata": {},
   "outputs": [],
   "source": [
    "# reflector(text, 1)"
   ]
  },
  {
   "cell_type": "code",
   "execution_count": 7,
   "id": "87d2cf3a",
   "metadata": {},
   "outputs": [],
   "source": [
    "def enigma_1(text, ref, rot1, rot2, rot3):\n",
    "    cur_rotors = [rot1, rot2, rot3]\n",
    "    text = [x.upper() for x in text if x.upper() in reflectors[ref]] \n",
    "    for i in range(len(text)):\n",
    "#         print(text[i])\n",
    "        for x in cur_rotors[::-1]: \n",
    "            text[i] = rotor(text[i], x)\n",
    "#             print(text[i])\n",
    "        text[i] = reflector(text[i], ref)\n",
    "        for x in cur_rotors:\n",
    "            text[i] = rotor(text[i], x, True)\n",
    "#             print(text[i])\n",
    "    return ''.join(text)"
   ]
  },
  {
   "cell_type": "code",
   "execution_count": 8,
   "id": "e98078ba",
   "metadata": {},
   "outputs": [],
   "source": [
    "# enigma_1('A', 1, 1, 2, 3)"
   ]
  },
  {
   "cell_type": "code",
   "execution_count": 9,
   "id": "7bbcd4e6",
   "metadata": {},
   "outputs": [],
   "source": [
    "# enigma_1('WZYMMABVKQDMIDMJD', 1, 1, 2, 3)"
   ]
  },
  {
   "cell_type": "code",
   "execution_count": 210,
   "id": "e2623f0e",
   "metadata": {},
   "outputs": [],
   "source": [
    "def enigma_2(text, ref, rot1, shift1, rot2, shift2, rot3, shift3):\n",
    "    cur_rotors, shifts = [rot1, rot2, rot3], [shift1, shift2, shift3]\n",
    "    text = [x.upper() for x in text if x.upper() in reflectors[ref]] \n",
    "    for i in range(len(text)):\n",
    "        text[i] = shifting_rotors(cur_rotors[::-1], shifts[::-1], text[i])        \n",
    "        text[i] = reflector(text[i], ref)\n",
    "        text[i] = shifting_rotors(cur_rotors, shifts, text[i], True)\n",
    "    return ''.join(text)\n",
    "\n",
    "def shifting_rotors(cur_rotors, shifts, text, reverse=False):\n",
    "    for rot, shift in zip(cur_rotors, shifts): \n",
    "        new_char = rotors[0].index(text) + shift\n",
    "        text = rotor(rotors[0][new_char % len(rotors[0])], rot, reverse)\n",
    "#         print(text, end=' -> ')\n",
    "        new_char = rotors[0].index(text) - shift\n",
    "        text = rotor(rotors[0][new_char % len(rotors[0])], 0, reverse)\n",
    "#         print(text, end=' -> ')\n",
    "    return text"
   ]
  },
  {
   "cell_type": "code",
   "execution_count": 211,
   "id": "eed5c3db",
   "metadata": {},
   "outputs": [],
   "source": [
    "# enigma_2('Some encripted text', 1, 1, 1, 2, 2, 3, 1)"
   ]
  },
  {
   "cell_type": "code",
   "execution_count": 212,
   "id": "7f6c1335",
   "metadata": {},
   "outputs": [],
   "source": [
    "def enigma_3(text, ref, rot1, shift1, rot2, shift2, rot3, shift3):\n",
    "    cur_rotors, shifts = [rot1, rot2, rot3], [shift1, shift2, shift3]\n",
    "    text = [x.upper() for x in text if x.upper() in reflectors[ref]] \n",
    "    for i in range(len(text)):\n",
    "        shifts = update_shifts(shifts, len(rotors[0]), cur_rotors)\n",
    "#         print(shifts)\n",
    "#         print(text[i], end=' -> ')\n",
    "        text[i] = shifting_rotors(cur_rotors[::-1], shifts[::-1], text[i])\n",
    "#         print(text[i], end=' -> ')\n",
    "        text[i] = reflector(text[i], ref)\n",
    "#         print(text[i], end=' -> ')\n",
    "        text[i] = shifting_rotors(cur_rotors, shifts, text[i], True)\n",
    "#         print(text[i], end='\\n')\n",
    "    return ''.join(text)\n",
    "\n",
    "def update_shifts(shifts, len_alphabet, cur_rotors):\n",
    "    shifts[-1] += 1\n",
    "    shifts, cur_rotors = shifts[::-1], cur_rotors[::-1]\n",
    "    rotors_shifts = {1: 17, 2: 5, 3: 22, 4: 10}\n",
    "    shift0 = rotors_shifts[cur_rotors[0]] \n",
    "    shift1 = rotors_shifts[cur_rotors[1]]\n",
    "    shift2 = rotors_shifts[cur_rotors[2]]\n",
    "    if shifts[0] == shift0 or shifts[1] == (shift1 - 1):\n",
    "        shifts[1] += 1\n",
    "        if shifts[1] == shift1:\n",
    "            shifts[2] += 1\n",
    "            \n",
    "    shifts = [x % 26 for x in shifts]\n",
    "    return shifts[::-1]"
   ]
  },
  {
   "cell_type": "code",
   "execution_count": 213,
   "id": "9224d979",
   "metadata": {
    "scrolled": false
   },
   "outputs": [
    {
     "data": {
      "text/plain": [
       "'BGDMBTZUONCIZMORCPNVLGOVLMURTNZNDROPETXLPLYCMIBICXITUCM'"
      ]
     },
     "execution_count": 213,
     "metadata": {},
     "output_type": "execute_result"
    }
   ],
   "source": [
    "enigma_3('AAAAA AAAAA AAAAA AAAAA AAAAA AAAAA AAAAA AAAAA AAAAA AAAAA AAAAA', 1, 2, 3, 2, 3, 2, 3)"
   ]
  },
  {
   "cell_type": "code",
   "execution_count": 282,
   "id": "bbdc8b7b",
   "metadata": {},
   "outputs": [],
   "source": [
    "def swap_pairs(text, pairs):\n",
    "    first_chars = [char[0].upper() for char in pairs.split(' ')]\n",
    "    second_chars = [char[1].upper() for char in pairs.split(' ')]\n",
    "    pairs = pairs.replace(' ', '').upper()\n",
    "    if len(pairs) != len(set(pairs)):\n",
    "        return False\n",
    "    \n",
    "    for j in range(len(text)):\n",
    "        for i in range(len(first_chars)):\n",
    "            if text[j].upper() == first_chars[i]:\n",
    "                text[j] = second_chars[i]\n",
    "            elif text[j].upper() == second_chars[i]:\n",
    "                text[j] = first_chars[i]\n",
    "    return text"
   ]
  },
  {
   "cell_type": "code",
   "execution_count": 285,
   "id": "1b9d1e19",
   "metadata": {},
   "outputs": [],
   "source": [
    "def enigma_v1_0(text, ref, rot1, shift1, rot2, shift2, rot3, shift3, pairs=\"\"):\n",
    "    cur_rotors, shifts = [rot1, rot2, rot3], [shift1, shift2, shift3]\n",
    "    text = [x.upper() for x in text if x.upper() in reflectors[ref]]\n",
    "    if pairs != '':\n",
    "        text = swap_pairs(text, pairs)\n",
    "        if not text:\n",
    "            return 'Извините, невозможно произвести коммутацию'\n",
    "    for i in range(len(text)):\n",
    "        shifts = update_shifts(shifts, len(rotors[0]), cur_rotors)\n",
    "#         print(shifts)\n",
    "#         print(text[i], end=' -> ')\n",
    "        text[i] = shifting_rotors(cur_rotors[::-1], shifts[::-1], text[i])\n",
    "#         print(text[i], end=' -> ')\n",
    "        text[i] = reflector(text[i], ref)\n",
    "#         print(text[i], end=' -> ')\n",
    "        text[i] = shifting_rotors(cur_rotors, shifts, text[i], True)\n",
    "#         print(text[i], end='\\n')\n",
    "    if pairs != '':\n",
    "        text = swap_pairs(text, pairs)\n",
    "    return ''.join(text)"
   ]
  },
  {
   "cell_type": "code",
   "execution_count": 287,
   "id": "194acf38",
   "metadata": {},
   "outputs": [
    {
     "data": {
      "text/plain": [
       "'Q'"
      ]
     },
     "execution_count": 287,
     "metadata": {},
     "output_type": "execute_result"
    }
   ],
   "source": [
    "enigma_v1_0('A', 1, 1, 0, 2, 0, 3, 0, 'AC qd')"
   ]
  },
  {
   "cell_type": "code",
   "execution_count": null,
   "id": "5da5ad65",
   "metadata": {},
   "outputs": [],
   "source": []
  },
  {
   "cell_type": "code",
   "execution_count": 17,
   "id": "a9cc18d5",
   "metadata": {},
   "outputs": [
    {
     "data": {
      "text/plain": [
       "1"
      ]
     },
     "execution_count": 17,
     "metadata": {},
     "output_type": "execute_result"
    }
   ],
   "source": []
  },
  {
   "cell_type": "code",
   "execution_count": null,
   "id": "27aae7a3",
   "metadata": {},
   "outputs": [],
   "source": []
  }
 ],
 "metadata": {
  "kernelspec": {
   "display_name": "Python 3 (ipykernel)",
   "language": "python",
   "name": "python3"
  },
  "language_info": {
   "codemirror_mode": {
    "name": "ipython",
    "version": 3
   },
   "file_extension": ".py",
   "mimetype": "text/x-python",
   "name": "python",
   "nbconvert_exporter": "python",
   "pygments_lexer": "ipython3",
   "version": "3.9.12"
  }
 },
 "nbformat": 4,
 "nbformat_minor": 5
}
