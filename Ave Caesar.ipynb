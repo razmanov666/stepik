{
 "cells": [
  {
   "cell_type": "code",
   "execution_count": 1,
   "id": "5fa2adcb",
   "metadata": {},
   "outputs": [],
   "source": [
    "def caesar(text, key): \n",
    "    alphabet = [chr(x) for x in range(65, 91)]\n",
    "#     print(len(alphabet))\n",
    "    text = [char.upper() for char in text if char.upper() in alphabet]\n",
    "    res_text = []\n",
    "    for i in range(len(text)):\n",
    "        index_need = (alphabet.index(text[i]) + key) % len(alphabet)\n",
    "        res_text.append(alphabet[index_need])\n",
    "    return ''.join(res_text)"
   ]
  },
  {
   "cell_type": "code",
   "execution_count": 2,
   "id": "dbd66e13",
   "metadata": {},
   "outputs": [
    {
     "data": {
      "text/plain": [
       "'MAXJNBVDUKHPGYHQCNFILHOXKMAXETSRWHZ'"
      ]
     },
     "execution_count": 2,
     "metadata": {},
     "output_type": "execute_result"
    }
   ],
   "source": [
    "caesar('THE QUICK BROWN FOX JUMPS OVER THE LAZY DOG', 123)"
   ]
  },
  {
   "cell_type": "code",
   "execution_count": 3,
   "id": "8880bd68",
   "metadata": {},
   "outputs": [],
   "source": [
    "def caesar(text, key, alphabet = 'ABCDEFGHIJKLMNOPQRSTUVWXYZ'):\n",
    "    text = [char.upper() for char in text if char.upper() in alphabet]\n",
    "    res_text = []\n",
    "    for i in range(len(text)):\n",
    "        index_need = (alphabet.index(text[i]) + key) % len(alphabet)\n",
    "        res_text.append(alphabet[index_need])\n",
    "    return ''.join(res_text)"
   ]
  },
  {
   "cell_type": "code",
   "execution_count": 4,
   "id": "da0fde2a",
   "metadata": {},
   "outputs": [
    {
     "data": {
      "text/plain": [
       "'MAXJNBVDUKHPGYHQCNFILHOXKMAXETSRWHZ'"
      ]
     },
     "execution_count": 4,
     "metadata": {},
     "output_type": "execute_result"
    }
   ],
   "source": [
    "caesar('THE QUICK BROWN FOX JUMPS OVER THE LAZY DOG', 123)"
   ]
  },
  {
   "cell_type": "code",
   "execution_count": 5,
   "id": "b98b42c3",
   "metadata": {},
   "outputs": [],
   "source": [
    "def bruteforce(text, alphabet = 'ABCDEFGHIJKLMNOPQRSTUVWXYZ'):\n",
    "    for i in range(1, len(alphabet)):\n",
    "        print(caesar(text, len(alphabet) - i, alphabet))"
   ]
  },
  {
   "cell_type": "code",
   "execution_count": 6,
   "id": "1f21b24a",
   "metadata": {},
   "outputs": [
    {
     "name": "stdout",
     "output_type": "stream",
     "text": [
      "APPLE\n",
      "ZOOKD\n",
      "YNNJC\n",
      "XMMIB\n",
      "WLLHA\n",
      "VKKGZ\n",
      "UJJFY\n",
      "TIIEX\n",
      "SHHDW\n",
      "RGGCV\n",
      "QFFBU\n",
      "PEEAT\n",
      "ODDZS\n",
      "NCCYR\n",
      "MBBXQ\n",
      "LAAWP\n",
      "KZZVO\n",
      "JYYUN\n",
      "IXXTM\n",
      "HWWSL\n",
      "GVVRK\n",
      "FUUQJ\n",
      "ETTPI\n",
      "DSSOH\n",
      "CRRNG\n"
     ]
    }
   ],
   "source": [
    "bruteforce('BQQMF')"
   ]
  },
  {
   "cell_type": "code",
   "execution_count": 7,
   "id": "ccfddf82",
   "metadata": {},
   "outputs": [
    {
     "name": "stdout",
     "output_type": "stream",
     "text": [
      "РСБЛУЙЛФНРПНБУЁНБУЙЛЁЙРБКУПО\n",
      "ПРАКТИКУМПОМАТЕМАТИКЕИПАЙТОН\n",
      "ОПЯЙСЗЙТЛОНЛЯСДЛЯСЗЙДЗОЯИСНМ\n",
      "НОЮИРЖИСКНМКЮРГКЮРЖИГЖНЮЗРМЛ\n",
      "МНЭЗПЁЗРЙМЛЙЭПВЙЭПЁЗВЁМЭЖПЛК\n",
      "ЛМЬЖОЕЖПИЛКИЬОБИЬОЕЖБЕЛЬЁОКЙ\n",
      "КЛЫЁНДЁОЗКЙЗЫНАЗЫНДЁАДКЫЕНЙИ\n",
      "ЙКЪЕМГЕНЖЙИЖЪМЯЖЪМГЕЯГЙЪДМИЗ\n",
      "ИЙЩДЛВДМЁИЗЁЩЛЮЁЩЛВДЮВИЩГЛЗЖ\n",
      "ЗИШГКБГЛЕЗЖЕШКЭЕШКБГЭБЗШВКЖЁ\n",
      "ЖЗЧВЙАВКДЖЁДЧЙЬДЧЙАВЬАЖЧБЙЁЕ\n",
      "ЁЖЦБИЯБЙГЁЕГЦИЫГЦИЯБЫЯЁЦАИЕД\n",
      "ЕЁХАЗЮАИВЕДВХЗЪВХЗЮАЪЮЕХЯЗДГ\n",
      "ДЕФЯЖЭЯЗБДГБФЖЩБФЖЭЯЩЭДФЮЖГВ\n",
      "ГДУЮЁЬЮЖАГВАУЁШАУЁЬЮШЬГУЭЁВБ\n",
      "ВГТЭЕЫЭЁЯВБЯТЕЧЯТЕЫЭЧЫВТЬЕБА\n",
      "БВСЬДЪЬЕЮБАЮСДЦЮСДЪЬЦЪБСЫДАЯ\n",
      "АБРЫГЩЫДЭАЯЭРГХЭРГЩЫХЩАРЪГЯЮ\n",
      "ЯАПЪВШЪГЬЯЮЬПВФЬПВШЪФШЯПЩВЮЭ\n",
      "ЮЯОЩБЧЩВЫЮЭЫОБУЫОБЧЩУЧЮОШБЭЬ\n",
      "ЭЮНШАЦШБЪЭЬЪНАТЪНАЦШТЦЭНЧАЬЫ\n",
      "ЬЭМЧЯХЧАЩЬЫЩМЯСЩМЯХЧСХЬМЦЯЫЪ\n",
      "ЫЬЛЦЮФЦЯШЫЪШЛЮРШЛЮФЦРФЫЛХЮЪЩ\n",
      "ЪЫКХЭУХЮЧЪЩЧКЭПЧКЭУХПУЪКФЭЩШ\n",
      "ЩЪЙФЬТФЭЦЩШЦЙЬОЦЙЬТФОТЩЙУЬШЧ\n",
      "ШЩИУЫСУЬХШЧХИЫНХИЫСУНСШИТЫЧЦ\n",
      "ЧШЗТЪРТЫФЧЦФЗЪМФЗЪРТМРЧЗСЪЦХ\n",
      "ЦЧЖСЩПСЪУЦХУЖЩЛУЖЩПСЛПЦЖРЩХФ\n",
      "ХЦЁРШОРЩТХФТЁШКТЁШОРКОХЁПШФУ\n",
      "ФХЕПЧНПШСФУСЕЧЙСЕЧНПЙНФЕОЧУТ\n",
      "УФДОЦМОЧРУТРДЦИРДЦМОИМУДНЦТС\n",
      "ТУГНХЛНЦПТСПГХЗПГХЛНЗЛТГМХСР\n"
     ]
    }
   ],
   "source": [
    "bruteforce('СТВМФКМХОСРОВФЖОВФКМЖКСВЛФРП',alphabet='АБВГДЕЁЖЗИЙКЛМНОПРСТУФХЦЧШЩЪЫЬЭЮЯ')"
   ]
  },
  {
   "cell_type": "code",
   "execution_count": 8,
   "id": "1d5035dd",
   "metadata": {},
   "outputs": [],
   "source": [
    "def jarriquez_encryption(text, key, alphabet='ABCDEFGHIJKLMNOPQRSTUVWXYZ',reverse=False):\n",
    "    text = [char.upper() for char in text if char.upper() in alphabet]   \n",
    "    key = str(key)\n",
    "    res = []\n",
    "    for i in range(len(text)):\n",
    "        if reverse:\n",
    "            res.append(alphabet[(alphabet.index(text[i]) - int(key[i % len(key)])) % len(alphabet)])\n",
    "        else:\n",
    "            res.append(alphabet[(alphabet.index(text[i]) + int(key[i % len(key)])) % len(alphabet)])\n",
    "    return ''.join(res) "
   ]
  },
  {
   "cell_type": "code",
   "execution_count": 9,
   "id": "626b54ce",
   "metadata": {},
   "outputs": [
    {
     "data": {
      "text/plain": [
       "'UUNEFWKXKVUEECMDVLPRUQQYCYTIHWUKPZ'"
      ]
     },
     "execution_count": 9,
     "metadata": {},
     "output_type": "execute_result"
    }
   ],
   "source": [
    "jarriquez_encryption('Some encripted text for this assignment', 26101986)"
   ]
  },
  {
   "cell_type": "code",
   "execution_count": 10,
   "id": "82dae30b",
   "metadata": {},
   "outputs": [],
   "source": [
    "words = ['ПРЕСТУП', 'ДАКОСТ', 'ЖАРРИКЕС']\n",
    "# words = ['ЖАРРИКЕСА', 'АЛМАЗ', 'ДАКОСТ', 'ЖАРРИКЕС']\n",
    "\n",
    "\n",
    "def decryption(text, alphabet='АБВГДЕЁЖЗИЙКЛМНОПРСТУФХЦЧШЩЪЫЬЭЮЯ'):\n",
    "    text = [char.upper() for char in text if char.upper() in alphabet]\n",
    "    for x in range(100, 1000000):\n",
    "        decrypt_text = jarriquez_encryption(text, x, alphabet, True)\n",
    "#         print(decrypt_text)\n",
    "        for word in words:\n",
    "            if word in decrypt_text:\n",
    "                return x, decrypt_text\n",
    "    return '('"
   ]
  },
  {
   "cell_type": "code",
   "execution_count": 11,
   "id": "af9f0ef3",
   "metadata": {},
   "outputs": [],
   "source": [
    "import time\n",
    "\n",
    "decrypt_var = ('ТЛБЛДУЭППТКЛФЧУВНУПБКЗИХТЛТТЫХНЛОИНУВЖММИНПФНПШОКЧЛЕРНТФНАХЖИДМЯКЛТУБЖИУЕЖЕАХЛГЩЕЕ' +\n",
    "\n",
    "'ЪУВНГАХИЯШПЙАОЦЦПВТЛБФТТИИНДИДНЧЮОНЯОФВТЕАТФУШБЛРЮЮЧЖДРУУШГЕХУРПЧЕУВАЭУОЙБДБНОЛСКЦБ' +\n",
    "\n",
    "\"САОЦЦПВИШЮТППЦЧНЖОИНШВРЗЕЗКЗСБЮНЙРКПСЪЖФФШНЦЗРСЭШЦПЖСЙНГЭФФВЫМЖИЛРОЩСЗЮЙФШФДЖО\" +\n",
    "\n",
    "'ИЗТРМООЙБНФГОЩЧФЖООКОФВЙСЭФЖУЬХИСЦЖГИЪЖДШПРМЖПУПГЦНВКБНРЕКИБШМЦХЙИАМФЛУЬЙИСЗРТЕС')\n",
    "\n",
    "# decrypt_var = 'ЧУЦИЮЛКВУФКНЙУГУТССКЩДФИПЮРЯЛЦР'\n",
    "\n"
   ]
  },
  {
   "cell_type": "code",
   "execution_count": 12,
   "id": "1b82461e",
   "metadata": {},
   "outputs": [
    {
     "name": "stdout",
     "output_type": "stream",
     "text": [
      "(261086, 'РЕАЛЬНЫЙОТВЕТСТВЕННЫЙЗАПРЕСТУПЛЕНИЕНААЛМАЗНОМПРИИСКЕИЗРОМАНАЖЮЛЯВЕРНАЖАНГАДАНЕБУДЕТНАЗВАНВЭТОЙШИФРОВКЕЯОСТАВЛЮЗДЕСЬИМЯЖОАМДАКОСТАЛИШЬСЕДИНСТВЕННОЙЦЕЛЬЮЧТОБЫВЫМОГЛИРАСШИФРОВАТЬМОПОСЛАНИЕТАКЖЕЯДЕЛАЮЕГОДОСТАТОЧНОБОЛЬШОЙДЛИНЫЧТОБЫДАЖЕПОСЛЕШИФРОВАНИЯМОЖНОБЫЛОВОССТАНОВИТЬИСХОДНЫХАЛФАВИТАВТОРДАННОГОЗАДАНИЯИВАШДРУГЗАДОЙНЫЙАЛЕКСЕЙ')\n",
      "---42.14928460121155 seconds ---\n"
     ]
    }
   ],
   "source": [
    "start_time = time.time()\n",
    "print(decryption(decrypt_var, ''.join(sorted(list(set(decrypt_var))))))\n",
    "print(\"---%s seconds ---\" % (time.time() - start_time))\n"
   ]
  },
  {
   "cell_type": "code",
   "execution_count": 13,
   "id": "b63b5aff",
   "metadata": {},
   "outputs": [],
   "source": [
    "import random"
   ]
  },
  {
   "cell_type": "code",
   "execution_count": 47,
   "id": "13890181",
   "metadata": {},
   "outputs": [],
   "source": [
    "random.seed(42)\n",
    "\n",
    "def disc_generator(alphabet):\n",
    "    list_alphabet = list(alphabet)\n",
    "    random.shuffle(list_alphabet)\n",
    "    return ''.join(list_alphabet)"
   ]
  },
  {
   "cell_type": "code",
   "execution_count": 48,
   "id": "2c2f4bfd",
   "metadata": {},
   "outputs": [
    {
     "data": {
      "text/plain": [
       "'QMJZTGFKPWLSBOXNCRYEVHIADU'"
      ]
     },
     "execution_count": 48,
     "metadata": {},
     "output_type": "execute_result"
    }
   ],
   "source": [
    "disc_generator('ABCDEFGHIJKLMNOPQRSTUVWXYZ')"
   ]
  },
  {
   "cell_type": "code",
   "execution_count": 83,
   "id": "1357fa09",
   "metadata": {},
   "outputs": [],
   "source": [
    "clear_alphabet = 'ABCDEFGHIJKLMNOPQRSTUVWXYZ'\n",
    "n = 6\n",
    "discs = [disc_generator(clear_alphabet) for _ in range(n)]\n",
    "text = 'Some encripted text'\n",
    "step = 4\n",
    "\n",
    "def jefferson_encryption(text, discs, step, reverse=False):\n",
    "    res = []\n",
    "    text = [char.upper() for char in text if char.upper() in clear_alphabet]\n",
    "    if reverse:\n",
    "        step *= -1\n",
    "    for i in range(len(text)):\n",
    "        cur_alphabet = discs[i % len(discs)]\n",
    "        res.append(cur_alphabet[(cur_alphabet.index(text[i]) + step) % len(cur_alphabet)])\n",
    "    return ''.join(res) \n",
    "    \n",
    "        "
   ]
  },
  {
   "cell_type": "code",
   "execution_count": 84,
   "id": "2f231be0",
   "metadata": {},
   "outputs": [
    {
     "data": {
      "text/plain": [
       "'YIGLSKTMJTFWFHQNF'"
      ]
     },
     "execution_count": 84,
     "metadata": {},
     "output_type": "execute_result"
    }
   ],
   "source": [
    "jefferson_encryption(text, discs, step, reverse=False)"
   ]
  },
  {
   "cell_type": "code",
   "execution_count": 85,
   "id": "8310abd2",
   "metadata": {},
   "outputs": [],
   "source": [
    "symbols_list, char_list = list('8;4‡)*56(1†092:3?¶-.'), list('ethosnairfdlmbyguvcp')\n",
    "symbol_dict = {}\n",
    "for x in range(len(symbols_list)):\n",
    "    symbol_dict[symbols_list[x]] = char_list[x]\n",
    "    "
   ]
  },
  {
   "cell_type": "code",
   "execution_count": 86,
   "id": "79a2f11c",
   "metadata": {},
   "outputs": [
    {
     "data": {
      "text/plain": [
       "{'8': 'e',\n",
       " ';': 't',\n",
       " '4': 'h',\n",
       " '‡': 'o',\n",
       " ')': 's',\n",
       " '*': 'n',\n",
       " '5': 'a',\n",
       " '6': 'i',\n",
       " '(': 'r',\n",
       " '1': 'f',\n",
       " '†': 'd',\n",
       " '0': 'l',\n",
       " '9': 'm',\n",
       " '2': 'b',\n",
       " ':': 'y',\n",
       " '3': 'g',\n",
       " '?': 'u',\n",
       " '¶': 'v',\n",
       " '-': 'c',\n",
       " '.': 'p'}"
      ]
     },
     "execution_count": 86,
     "metadata": {},
     "output_type": "execute_result"
    }
   ],
   "source": [
    "symbol_dict"
   ]
  },
  {
   "cell_type": "code",
   "execution_count": 125,
   "id": "db87ac7b",
   "metadata": {},
   "outputs": [],
   "source": [
    "def kidds_encryption(text, reverse=False):\n",
    "    symbol_list, char_list = list('8;4‡)*56(1†092:3?¶-.'), list('ethosnairfdlmbyguvcp')\n",
    "    decrypt_dict = {}\n",
    "    if not reverse:\n",
    "        for x in range(len(symbol_list)):\n",
    "            decrypt_dict[char_list[x]] = symbol_list[x]\n",
    "        text = [char.lower() for char in text if char.lower() in decrypt_dict.keys()]\n",
    "    else:\n",
    "        for x in range(len(symbol_list)):\n",
    "            decrypt_dict[symbol_list[x]] = char_list[x]\n",
    "        text = [char.lower() for char in text if char.lower() in decrypt_dict.keys()]\n",
    "    print(text)\n",
    "    encryption_text = []\n",
    "    for x in range(len(text)):\n",
    "        text[x] = decrypt_dict[text[x]]\n",
    "    return ''.join(text)"
   ]
  },
  {
   "cell_type": "code",
   "execution_count": 127,
   "id": "58947ef9",
   "metadata": {},
   "outputs": [
    {
     "name": "stdout",
     "output_type": "stream",
     "text": [
      "['8', ';', '4', '‡', ')', '*', '5', '6', '(', '1', '†', '0', '9', '2', ':', '3', '?', '¶', '-', '.']\n"
     ]
    },
    {
     "data": {
      "text/plain": [
       "'ethosnairfdlmbyguvcp'"
      ]
     },
     "execution_count": 127,
     "metadata": {},
     "output_type": "execute_result"
    }
   ],
   "source": [
    "text = '8;4‡)*56(1†092:3?¶-.'\n",
    "\n",
    "kidds_encryption(text, reverse=True)"
   ]
  },
  {
   "cell_type": "code",
   "execution_count": null,
   "id": "505fef12",
   "metadata": {},
   "outputs": [],
   "source": [
    "def kidds_encryption(text, reverse=False):\n",
    "    a = list('ethosnairfdlmbyguvcp')\n",
    "    b = list('8;4‡)*56(1†092:3?¶-.')\n",
    "    if reverse:\n",
    "        a, b = b, a\n",
    "    return ''.join([b[a.index(x)] for x in text.lower() if x in a])"
   ]
  },
  {
   "cell_type": "code",
   "execution_count": null,
   "id": "ec7cf80b",
   "metadata": {},
   "outputs": [],
   "source": []
  }
 ],
 "metadata": {
  "kernelspec": {
   "display_name": "Python 3 (ipykernel)",
   "language": "python",
   "name": "python3"
  },
  "language_info": {
   "codemirror_mode": {
    "name": "ipython",
    "version": 3
   },
   "file_extension": ".py",
   "mimetype": "text/x-python",
   "name": "python",
   "nbconvert_exporter": "python",
   "pygments_lexer": "ipython3",
   "version": "3.9.12"
  }
 },
 "nbformat": 4,
 "nbformat_minor": 5
}
