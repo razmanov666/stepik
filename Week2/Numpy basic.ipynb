{
 "cells": [
  {
   "cell_type": "code",
   "execution_count": 1,
   "id": "0b33a381",
   "metadata": {},
   "outputs": [
    {
     "name": "stdout",
     "output_type": "stream",
     "text": [
      "1, 2, 3, 4, 5.0, 6, 7, 8, 9, 10\n"
     ]
    }
   ],
   "source": [
    "#1\n",
    "import numpy as np\n",
    "\n",
    "\n",
    "V1 = np.array(input().split(','), dtype='float')\n",
    "V2 = V1[-2:-1]\n",
    "V3 = V1[::-1]\n",
    "V4 = V1[::3]\n",
    "V5 = np.array(range(len(V1)))\n"
   ]
  },
  {
   "cell_type": "code",
   "execution_count": 7,
   "id": "d1ea5932",
   "metadata": {},
   "outputs": [
    {
     "name": "stdout",
     "output_type": "stream",
     "text": [
      "1, 2, 3, 4, 5, 6\n",
      "1, 2, 3, 4\n"
     ]
    }
   ],
   "source": [
    "#2\n",
    "V1 = np.array([int(x) for x in input().split(', ')], dtype='int')\n",
    "V2 = np.array([int(x) for x in input().split(', ')], dtype='int')\n",
    "V = V1[(V1 % V2[-2] == 0)] / V2[-2]"
   ]
  },
  {
   "cell_type": "code",
   "execution_count": 27,
   "id": "2005c9fc",
   "metadata": {},
   "outputs": [
    {
     "name": "stdout",
     "output_type": "stream",
     "text": [
      "1, 2, 3, 4\n",
      "10, 20, 30, 40\n"
     ]
    }
   ],
   "source": [
    "#3\n",
    "V1 = np.array([int(x) for x in input().split(',')], dtype='int')\n",
    "V2 = np.array([int(x) for x in input().split(',')], dtype='int')\n",
    "V3 = V1 + V2\n",
    "V4 = V1[::2] * V2[::-2] "
   ]
  },
  {
   "cell_type": "code",
   "execution_count": 61,
   "id": "85234abe",
   "metadata": {},
   "outputs": [
    {
     "name": "stdout",
     "output_type": "stream",
     "text": [
      "17.999999999999993\n"
     ]
    }
   ],
   "source": [
    "#4\n",
    "# Площадь треугольника по координатам его вершин\n",
    "A1 = np.array((-1, 1))\n",
    "A2 = np.array((2, 5))\n",
    "A3 = np.array((5, -3))\n",
    "\n",
    "if (A1[0] != A2[0] != A3[0]) or (A1[1] != A2[1] != A3[1]):\n",
    "    ab = abs((A2[0] - A1[0]) ** 2 + (A2[1] - A1[1]) ** 2) ** 0.5\n",
    "    ac = abs((A3[0] - A1[0]) ** 2 + (A3[1] - A1[1]) ** 2) ** 0.5\n",
    "    bc = abs((A3[0] - A2[0]) ** 2 + (A3[1] - A2[1]) ** 2) ** 0.5\n",
    "    p = ab + ac + bc\n",
    "    s = (((ab ** 2 + bc ** 2 + ac ** 2) ** 2 - 2 * (ab ** 4 + bc ** 4 + ac ** 4)) ** 0.5) * 0.25\n",
    "    print(s)\n",
    "else:\n",
    "    print(0)"
   ]
  },
  {
   "cell_type": "code",
   "execution_count": 75,
   "id": "f9c7c829",
   "metadata": {},
   "outputs": [],
   "source": [
    "#5\n",
    "M1 = np.array((\n",
    "    (1, 2, 3, 0),\n",
    "    (4, 5, 6, 0),\n",
    "    (0, 1, 1, 6),\n",
    "    (7, 8, 9, 0)\n",
    "), dtype='float')"
   ]
  },
  {
   "cell_type": "code",
   "execution_count": 76,
   "id": "85ab9a7d",
   "metadata": {},
   "outputs": [
    {
     "data": {
      "text/plain": [
       "array([[1., 2., 3., 0.],\n",
       "       [4., 5., 6., 0.],\n",
       "       [0., 1., 1., 6.],\n",
       "       [7., 8., 9., 0.]])"
      ]
     },
     "execution_count": 76,
     "metadata": {},
     "output_type": "execute_result"
    }
   ],
   "source": [
    "M1"
   ]
  },
  {
   "cell_type": "code",
   "execution_count": 77,
   "id": "b4c3ce15",
   "metadata": {},
   "outputs": [],
   "source": [
    "M1[-2] = [np.sin((x * np.pi)/6) for x in M1[-2]]\n",
    "for i in M1:\n",
    "    i[-2] = np.exp(i[-2])"
   ]
  },
  {
   "cell_type": "code",
   "execution_count": null,
   "id": "cc8d655f",
   "metadata": {},
   "outputs": [],
   "source": [
    "\n"
   ]
  },
  {
   "cell_type": "code",
   "execution_count": 78,
   "id": "b0351e3a",
   "metadata": {},
   "outputs": [
    {
     "data": {
      "text/plain": [
       "array([[1.00000000e+00, 2.00000000e+00, 2.00855369e+01, 0.00000000e+00],\n",
       "       [4.00000000e+00, 5.00000000e+00, 4.03428793e+02, 0.00000000e+00],\n",
       "       [0.00000000e+00, 5.00000000e-01, 1.64872127e+00, 1.22464680e-16],\n",
       "       [7.00000000e+00, 8.00000000e+00, 8.10308393e+03, 0.00000000e+00]])"
      ]
     },
     "execution_count": 78,
     "metadata": {},
     "output_type": "execute_result"
    }
   ],
   "source": [
    "M1"
   ]
  },
  {
   "cell_type": "code",
   "execution_count": 82,
   "id": "8d4283b8",
   "metadata": {},
   "outputs": [
    {
     "data": {
      "text/plain": [
       "['__add__',\n",
       " '__class__',\n",
       " '__contains__',\n",
       " '__delattr__',\n",
       " '__dir__',\n",
       " '__doc__',\n",
       " '__eq__',\n",
       " '__format__',\n",
       " '__ge__',\n",
       " '__getattribute__',\n",
       " '__getitem__',\n",
       " '__getnewargs__',\n",
       " '__gt__',\n",
       " '__hash__',\n",
       " '__init__',\n",
       " '__init_subclass__',\n",
       " '__iter__',\n",
       " '__le__',\n",
       " '__len__',\n",
       " '__lt__',\n",
       " '__mod__',\n",
       " '__mul__',\n",
       " '__ne__',\n",
       " '__new__',\n",
       " '__reduce__',\n",
       " '__reduce_ex__',\n",
       " '__repr__',\n",
       " '__rmod__',\n",
       " '__rmul__',\n",
       " '__setattr__',\n",
       " '__sizeof__',\n",
       " '__str__',\n",
       " '__subclasshook__',\n",
       " 'capitalize',\n",
       " 'casefold',\n",
       " 'center',\n",
       " 'count',\n",
       " 'encode',\n",
       " 'endswith',\n",
       " 'expandtabs',\n",
       " 'find',\n",
       " 'format',\n",
       " 'format_map',\n",
       " 'index',\n",
       " 'isalnum',\n",
       " 'isalpha',\n",
       " 'isascii',\n",
       " 'isdecimal',\n",
       " 'isdigit',\n",
       " 'isidentifier',\n",
       " 'islower',\n",
       " 'isnumeric',\n",
       " 'isprintable',\n",
       " 'isspace',\n",
       " 'istitle',\n",
       " 'isupper',\n",
       " 'join',\n",
       " 'ljust',\n",
       " 'lower',\n",
       " 'lstrip',\n",
       " 'maketrans',\n",
       " 'partition',\n",
       " 'removeprefix',\n",
       " 'removesuffix',\n",
       " 'replace',\n",
       " 'rfind',\n",
       " 'rindex',\n",
       " 'rjust',\n",
       " 'rpartition',\n",
       " 'rsplit',\n",
       " 'rstrip',\n",
       " 'split',\n",
       " 'splitlines',\n",
       " 'startswith',\n",
       " 'strip',\n",
       " 'swapcase',\n",
       " 'title',\n",
       " 'translate',\n",
       " 'upper',\n",
       " 'zfill']"
      ]
     },
     "execution_count": 82,
     "metadata": {},
     "output_type": "execute_result"
    }
   ],
   "source": [
    "dir(str)"
   ]
  },
  {
   "cell_type": "code",
   "execution_count": 83,
   "id": "1e7b76d1",
   "metadata": {},
   "outputs": [
    {
     "ename": "AttributeError",
     "evalue": "'str' object has no attribute 'pop'",
     "output_type": "error",
     "traceback": [
      "\u001b[0;31m---------------------------------------------------------------------------\u001b[0m",
      "\u001b[0;31mAttributeError\u001b[0m                            Traceback (most recent call last)",
      "Cell \u001b[0;32mIn[83], line 1\u001b[0m\n\u001b[0;32m----> 1\u001b[0m \u001b[38;5;124;43m\"\u001b[39;49m\u001b[38;5;124;43mlasd\u001b[39;49m\u001b[38;5;124;43m\"\u001b[39;49m\u001b[38;5;241;43m.\u001b[39;49m\u001b[43mpop\u001b[49m()\n",
      "\u001b[0;31mAttributeError\u001b[0m: 'str' object has no attribute 'pop'"
     ]
    }
   ],
   "source": [
    "\"lasd\".pop()"
   ]
  },
  {
   "cell_type": "code",
   "execution_count": 84,
   "id": "5f3e675a",
   "metadata": {},
   "outputs": [
    {
     "ename": "TypeError",
     "evalue": "unsupported operand type(s) for /: 'str' and 'int'",
     "output_type": "error",
     "traceback": [
      "\u001b[0;31m---------------------------------------------------------------------------\u001b[0m",
      "\u001b[0;31mTypeError\u001b[0m                                 Traceback (most recent call last)",
      "Cell \u001b[0;32mIn[84], line 1\u001b[0m\n\u001b[0;32m----> 1\u001b[0m \u001b[38;5;124;43m\"\u001b[39;49m\u001b[38;5;124;43m213123\u001b[39;49m\u001b[38;5;124;43m\"\u001b[39;49m\u001b[38;5;241;43m/\u001b[39;49m\u001b[38;5;241;43m3\u001b[39;49m\n",
      "\u001b[0;31mTypeError\u001b[0m: unsupported operand type(s) for /: 'str' and 'int'"
     ]
    }
   ],
   "source": [
    "\"213123\"/3"
   ]
  },
  {
   "cell_type": "code",
   "execution_count": null,
   "id": "8d76d23e",
   "metadata": {},
   "outputs": [],
   "source": []
  }
 ],
 "metadata": {
  "kernelspec": {
   "display_name": "Python 3 (ipykernel)",
   "language": "python",
   "name": "python3"
  },
  "language_info": {
   "codemirror_mode": {
    "name": "ipython",
    "version": 3
   },
   "file_extension": ".py",
   "mimetype": "text/x-python",
   "name": "python",
   "nbconvert_exporter": "python",
   "pygments_lexer": "ipython3",
   "version": "3.10.7"
  }
 },
 "nbformat": 4,
 "nbformat_minor": 5
}
