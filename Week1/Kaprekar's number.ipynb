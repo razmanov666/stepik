{
 "cells": [
  {
   "cell_type": "code",
   "execution_count": 34,
   "id": "5e06904e",
   "metadata": {},
   "outputs": [
    {
     "data": {
      "text/plain": [
       "True"
      ]
     },
     "execution_count": 34,
     "metadata": {},
     "output_type": "execute_result"
    }
   ],
   "source": [
    "input_num = 9\n",
    "def kaprekar(n):\n",
    "    n_sqr = n ** 2\n",
    "    str_n_sqr = str(n_sqr)\n",
    "    for i in range(1, len(str_n_sqr)):\n",
    "        first_part, last_part = str_n_sqr[:i], str_n_sqr[i:]\n",
    "        if int(first_part) + int(last_part) == n and int(last_part) != 0:\n",
    "               return True\n",
    "    return False\n",
    "        \n",
    "\n",
    "kaprekar(input_num)"
   ]
  },
  {
   "cell_type": "code",
   "execution_count": 32,
   "id": "f0e7dd58",
   "metadata": {},
   "outputs": [],
   "source": [
    "def convert(num, to_base=10, from_base=10):\n",
    "    if from_base != 10:\n",
    "        num = to_dec(num, from_base)\n",
    "    else:\n",
    "        num = int(num)\n",
    "    res, to_base = '', int(to_base)\n",
    "    while round(int(num) // int(to_base)) != 0:    \n",
    "        res += add_symbol(num, to_base)\n",
    "        num //= to_base\n",
    "    else:\n",
    "        res += add_symbol(num, to_base)\n",
    "        return res[::-1]\n",
    "\n",
    "def add_symbol(num, to_base):\n",
    "    symbol = str(num % to_base)\n",
    "    if len(symbol) > 1:\n",
    "        symbol = chr(int(symbol) + 55)\n",
    "    return symbol\n",
    "\n",
    "def to_dec(num, from_base):\n",
    "    alphabet = '0123456789ABCDEFGHIJKLMNOPQRSTUVWXYZ'\n",
    "    num_int = 0\n",
    "    num = str(num)[::-1]\n",
    "    for x in range(len(num)):\n",
    "        num_int += alphabet.index(num[x]) * from_base ** x\n",
    "    return num_int\n"
   ]
  },
  {
   "cell_type": "code",
   "execution_count": 33,
   "id": "00f0c07f",
   "metadata": {},
   "outputs": [
    {
     "name": "stdout",
     "output_type": "stream",
     "text": [
      "42 в системе с основанием 10 => 101010 в системе с основанием 2\n",
      "42 в системе с основанием 10 => 52 в системе с основанием 8\n",
      "42 в системе с основанием 10 => 2A в системе с основанием 16\n",
      "42 в системе с основанием 10 => 17 в системе с основанием 35\n"
     ]
    }
   ],
   "source": [
    "n = 42\n",
    "from_base = 10\n",
    "print('{} в системе с основанием {} => {} в системе с основанием 2'.format(n, from_base, convert(n, 2, from_base)))\n",
    "print('{} в системе с основанием {} => {} в системе с основанием 8'.format(n, from_base, convert(n, 8, from_base)))\n",
    "print('{} в системе с основанием {} => {} в системе с основанием 16'.format(n, from_base, convert(n, 16, from_base)))\n",
    "print('{} в системе с основанием {} => {} в системе с основанием 35'.format(n, from_base, convert(n, 35, from_base)))"
   ]
  },
  {
   "cell_type": "code",
   "execution_count": 49,
   "id": "89b35a4a",
   "metadata": {},
   "outputs": [],
   "source": [
    "def kaprekar_(n, base=10):\n",
    "    if base != 10:\n",
    "        n = int(n, base)\n",
    "    else:\n",
    "        n = int(n)\n",
    "    n_sqr = convert(n ** 2, base)\n",
    "    str_n_sqr = str(n_sqr)\n",
    "    for i in range(1, len(str_n_sqr)):\n",
    "        first_part, last_part = str_n_sqr[:i], str_n_sqr[i:]\n",
    "        if int(first_part) + int(last_part) == n and int(last_part) != 0:\n",
    "               return True\n",
    "    return False\n",
    "    "
   ]
  },
  {
   "cell_type": "code",
   "execution_count": 50,
   "id": "8533fd33",
   "metadata": {},
   "outputs": [
    {
     "data": {
      "text/plain": [
       "False"
      ]
     },
     "execution_count": 50,
     "metadata": {},
     "output_type": "execute_result"
    }
   ],
   "source": [
    "kaprekar_('12F', 16)"
   ]
  },
  {
   "cell_type": "code",
   "execution_count": 51,
   "id": "8c8482d5",
   "metadata": {},
   "outputs": [
    {
     "data": {
      "text/plain": [
       "False"
      ]
     },
     "execution_count": 51,
     "metadata": {},
     "output_type": "execute_result"
    }
   ],
   "source": [
    "kaprekar(to_dec('12F', 16))"
   ]
  },
  {
   "cell_type": "code",
   "execution_count": 57,
   "id": "f6f20291",
   "metadata": {},
   "outputs": [],
   "source": [
    "def kaprekar_(n, base=10):\n",
    "    if base != 10:\n",
    "        n = int(n, base)\n",
    "    else:\n",
    "        n = int(n)\n",
    "    n_sqr = convert(n ** 2, base)\n",
    "    str_n_sqr = str(n_sqr)\n",
    "    for i in range(1, len(str_n_sqr)):\n",
    "        first_part, last_part = str_n_sqr[:i], str_n_sqr[i:]\n",
    "        if int(first_part, base) + int(last_part, base) == n and int(last_part, base) != 0:\n",
    "               return True\n",
    "    return False\n",
    "    "
   ]
  },
  {
   "cell_type": "code",
   "execution_count": 58,
   "id": "c4c2b4ff",
   "metadata": {},
   "outputs": [
    {
     "name": "stdout",
     "output_type": "stream",
     "text": [
      "[True, True, True, True, True, True, True, True, True, True]\n",
      "[False, False, False, False, False, False, False, False, False, False]\n",
      "[True, True, True, True, True, True, True, True, True, True, True, True, True, True]\n"
     ]
    }
   ],
   "source": [
    "test_1 = [9, 45, 55, '99', '297', 703, 999, '2223', 2728, '4879']\n",
    "test_2 = [10, 46, 56, 100, 298, 704, '1000', '2224', '2729', '4880']\n",
    "test_3 = ['6', 'A', 'F', '33', '55', '5B', '78', '88', 'AB', 'CD', 'FF', '15F', '334', '38E']\n",
    "\n",
    "print([kaprekar_(i) for i in test_1]) # Тест чисел Капрекара из системы с основанием 10\n",
    "\n",
    "print([kaprekar_(i) for i in test_2 ]) # Тест НЕ чисел Капрекара из системы с основанием 10\n",
    "\n",
    "print([kaprekar_(i, base=16) for i in test_3]) #Тест чисел Капрекара из системы с основанием 16"
   ]
  },
  {
   "cell_type": "code",
   "execution_count": 54,
   "id": "c64d4e76",
   "metadata": {},
   "outputs": [
    {
     "data": {
      "text/plain": [
       "False"
      ]
     },
     "execution_count": 54,
     "metadata": {},
     "output_type": "execute_result"
    }
   ],
   "source": [
    "kaprekar(15)"
   ]
  },
  {
   "cell_type": "code",
   "execution_count": 61,
   "id": "0d2c7980",
   "metadata": {},
   "outputs": [
    {
     "name": "stdout",
     "output_type": "stream",
     "text": [
      "9\n",
      "45\n",
      "55\n",
      "99\n"
     ]
    }
   ],
   "source": [
    "i = 0\n",
    "for _ in range(100):\n",
    "    if kaprekar_(i):\n",
    "        print(i)\n",
    "    i += 1"
   ]
  },
  {
   "cell_type": "code",
   "execution_count": null,
   "id": "4ff8ea49",
   "metadata": {},
   "outputs": [],
   "source": []
  }
 ],
 "metadata": {
  "kernelspec": {
   "display_name": "Python 3 (ipykernel)",
   "language": "python",
   "name": "python3"
  },
  "language_info": {
   "codemirror_mode": {
    "name": "ipython",
    "version": 3
   },
   "file_extension": ".py",
   "mimetype": "text/x-python",
   "name": "python",
   "nbconvert_exporter": "python",
   "pygments_lexer": "ipython3",
   "version": "3.9.12"
  }
 },
 "nbformat": 4,
 "nbformat_minor": 5
}
