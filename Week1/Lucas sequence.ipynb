{
 "cells": [
  {
   "cell_type": "code",
   "execution_count": 49,
   "id": "a4cd5484",
   "metadata": {},
   "outputs": [],
   "source": [
    "def luka(n0, n1, n):\n",
    "    res = [n0, n1]\n",
    "    if n == 0:\n",
    "        return n0\n",
    "    for x in range(n-1):\n",
    "        res.append(n0 + n1)\n",
    "        del res[0]\n",
    "        n0, n1 = res[-2], res[-1]\n",
    "    return res[-1]"
   ]
  },
  {
   "cell_type": "code",
   "execution_count": 50,
   "id": "ac88ac5b",
   "metadata": {},
   "outputs": [
    {
     "data": {
      "text/plain": [
       "8"
      ]
     },
     "execution_count": 50,
     "metadata": {},
     "output_type": "execute_result"
    }
   ],
   "source": [
    "luka_simple(0, 1, 6)"
   ]
  },
  {
   "cell_type": "code",
   "execution_count": 4,
   "id": "ccd50b04",
   "metadata": {},
   "outputs": [],
   "source": [
    "def luka_recursion(n0, n1, n):\n",
    "    if n <= 1:\n",
    "        return n1\n",
    "    print(n0, n1)\n",
    "    return luka_recursion(n1, n0 + n1, n-1)\n",
    "\n",
    "# luka(12345, 67890, 5)"
   ]
  },
  {
   "cell_type": "code",
   "execution_count": 30,
   "id": "c07de982",
   "metadata": {},
   "outputs": [],
   "source": [
    "def fibonacci(n):\n",
    "    if n <= 0:\n",
    "        return 1\n",
    "    return n * fibonacci(n-1)"
   ]
  },
  {
   "cell_type": "code",
   "execution_count": 51,
   "id": "fe4e9c2b",
   "metadata": {},
   "outputs": [],
   "source": [
    "def fi_recursion(n0, n1, n):\n",
    "    n0, n1 = Decimal(n0), Decimal(n1)\n",
    "    if n <= 1:\n",
    "        return n1 / n0\n",
    "    return fi(n1, n0 + n1, n-1)"
   ]
  },
  {
   "cell_type": "code",
   "execution_count": 57,
   "id": "a1db74c7",
   "metadata": {},
   "outputs": [],
   "source": [
    "from decimal import *\n",
    "getcontext().prec = 50\n",
    "\n",
    "def fi(n0, n1, n):\n",
    "    n0, n1 = Decimal(n0), Decimal(n1)\n",
    "    res = [n0, n1]\n",
    "    if n <= 1:\n",
    "        return n1 / n0\n",
    "    for x in range(n-1):\n",
    "        res.append(n0 + n1)\n",
    "        del res[0]\n",
    "        n0, n1 = res[-2], res[-1]\n",
    "    return n1 / n0"
   ]
  },
  {
   "cell_type": "code",
   "execution_count": 58,
   "id": "57f2a010",
   "metadata": {},
   "outputs": [
    {
     "data": {
      "text/plain": [
       "Decimal('1.6181818181818181818181818181818181818181818181818')"
      ]
     },
     "execution_count": 58,
     "metadata": {},
     "output_type": "execute_result"
    }
   ],
   "source": [
    "fi(0, 1, 11)"
   ]
  },
  {
   "cell_type": "code",
   "execution_count": 9,
   "id": "8650b54c",
   "metadata": {},
   "outputs": [
    {
     "name": "stdout",
     "output_type": "stream",
     "text": [
      "2 1\n",
      "1 3\n",
      "3 4\n",
      "4 7\n"
     ]
    },
    {
     "data": {
      "text/plain": [
       "11"
      ]
     },
     "execution_count": 9,
     "metadata": {},
     "output_type": "execute_result"
    }
   ],
   "source": [
    "luka_recursion(2, 1, 5)"
   ]
  },
  {
   "cell_type": "code",
   "execution_count": 8,
   "id": "300917d4",
   "metadata": {},
   "outputs": [],
   "source": [
    "def super_L(n):\n",
    "    res = [2, 1]\n",
    "    for x in range(n-1):\n",
    "        res[0], res[1] = res[1], sum(res)\n",
    "    return res[1]"
   ]
  },
  {
   "cell_type": "code",
   "execution_count": null,
   "id": "2ee1ddaa",
   "metadata": {},
   "outputs": [],
   "source": []
  }
 ],
 "metadata": {
  "kernelspec": {
   "display_name": "Python 3 (ipykernel)",
   "language": "python",
   "name": "python3"
  },
  "language_info": {
   "codemirror_mode": {
    "name": "ipython",
    "version": 3
   },
   "file_extension": ".py",
   "mimetype": "text/x-python",
   "name": "python",
   "nbconvert_exporter": "python",
   "pygments_lexer": "ipython3",
   "version": "3.9.12"
  }
 },
 "nbformat": 4,
 "nbformat_minor": 5
}
