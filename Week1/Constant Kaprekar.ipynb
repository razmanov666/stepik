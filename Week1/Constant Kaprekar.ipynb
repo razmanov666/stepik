{
 "cells": [
  {
   "cell_type": "code",
   "execution_count": 5,
   "id": "2cfd122d",
   "metadata": {},
   "outputs": [],
   "source": [
    "def kaprekar_step(num):\n",
    "    str_L = [str(x) for x in str(num)]\n",
    "    str_L_sort = ''.join(sorted(str_L))\n",
    "    str_L_sort_reverse = ''.join(sorted(str_L, reverse=True))\n",
    "    list_values = [int(str_L_sort), int(str_L_sort_reverse)]\n",
    "    return max(list_values) - min(list_values)"
   ]
  },
  {
   "cell_type": "code",
   "execution_count": null,
   "id": "d2910dd2",
   "metadata": {},
   "outputs": [],
   "source": []
  },
  {
   "cell_type": "code",
   "execution_count": 34,
   "id": "1edaa709",
   "metadata": {},
   "outputs": [],
   "source": [
    "def kaprekar_loop(n):\n",
    "    res_val = [n]\n",
    "    while (n not in [6174, 495, 549945, 631764]):\n",
    "        n = kaprekar_step(n)\n",
    "        if n not in res_val:\n",
    "            res_val.append(n)\n",
    "        else:\n",
    "            res_val.append(\"Следующее число - {}, кажется процесс зациклился...\".format(n))\n",
    "            break\n",
    "    return res_val\n",
    "\n",
    "def kaprekar_check(n):\n",
    "    if (len(str(n)) in [3,4,6]) and (len(set(str(n))) > 1) and (n not in [100, 1000, 100000]):\n",
    "        return True\n",
    "    else:\n",
    "        print(\"Ошибка! На вход подано число {}, не удовлетворяющее условиям процесса Капрекара\".format(n))\n",
    "        return False"
   ]
  },
  {
   "cell_type": "code",
   "execution_count": 39,
   "id": "d3b53511",
   "metadata": {},
   "outputs": [
    {
     "name": "stdout",
     "output_type": "stream",
     "text": [
      "3778\n",
      "4995\n",
      "5355\n",
      "1998\n",
      "8082\n",
      "8532\n",
      "6174\n"
     ]
    }
   ],
   "source": [
    "num = 3778\n",
    "\n",
    "if kaprekar_check(num):\n",
    "    for x in kaprekar_loop(num):\n",
    "        print(x)"
   ]
  },
  {
   "cell_type": "code",
   "execution_count": null,
   "id": "f695b4a0",
   "metadata": {},
   "outputs": [],
   "source": []
  }
 ],
 "metadata": {
  "kernelspec": {
   "display_name": "Python 3 (ipykernel)",
   "language": "python",
   "name": "python3"
  },
  "language_info": {
   "codemirror_mode": {
    "name": "ipython",
    "version": 3
   },
   "file_extension": ".py",
   "mimetype": "text/x-python",
   "name": "python",
   "nbconvert_exporter": "python",
   "pygments_lexer": "ipython3",
   "version": "3.9.12"
  }
 },
 "nbformat": 4,
 "nbformat_minor": 5
}
