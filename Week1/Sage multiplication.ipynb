{
 "cells": [
  {
   "cell_type": "code",
   "execution_count": 3,
   "id": "0eba05e0",
   "metadata": {},
   "outputs": [],
   "source": [
    "def simple_multiplication(x, y):\n",
    "    return (100 - ((100 - x) + (100 - y))) * 100 + ((100 - x) * (100 - y)) "
   ]
  },
  {
   "cell_type": "code",
   "execution_count": 4,
   "id": "a047392b",
   "metadata": {},
   "outputs": [
    {
     "data": {
      "text/plain": [
       "600"
      ]
     },
     "execution_count": 4,
     "metadata": {},
     "output_type": "execute_result"
    }
   ],
   "source": [
    "simple_multiplication(20, 30)"
   ]
  },
  {
   "cell_type": "code",
   "execution_count": 9,
   "id": "2db4d15f",
   "metadata": {},
   "outputs": [],
   "source": [
    "def multiplication_check(x, y):\n",
    "    return simple_multiplication(x, y) == x * y"
   ]
  },
  {
   "cell_type": "code",
   "execution_count": 10,
   "id": "5c207295",
   "metadata": {},
   "outputs": [
    {
     "data": {
      "text/plain": [
       "True"
      ]
     },
     "execution_count": 10,
     "metadata": {},
     "output_type": "execute_result"
    }
   ],
   "source": [
    "multiplication_check(96, 97)"
   ]
  },
  {
   "cell_type": "code",
   "execution_count": 41,
   "id": "9b1e92ae",
   "metadata": {},
   "outputs": [],
   "source": [
    "def multiplication_check_list(start=10, stop=99):\n",
    "    res_true, res_false = 0, 0\n",
    "    for i in range(start, stop + 1):\n",
    "        for j in range(start, stop + 1):\n",
    "            if multiplication_check(i, j):\n",
    "                res_true += 1\n",
    "            else:\n",
    "                res_false += 1\n",
    "    print('Правильных результатов:', res_true)\n",
    "    print('Неправильных результатов:', res_false)"
   ]
  },
  {
   "cell_type": "code",
   "execution_count": 42,
   "id": "4b7a4313",
   "metadata": {},
   "outputs": [
    {
     "name": "stdout",
     "output_type": "stream",
     "text": [
      "Правильных результатов: 8100\n",
      "Неправильных результатов: 0\n"
     ]
    }
   ],
   "source": [
    "multiplication_check_list()"
   ]
  },
  {
   "cell_type": "code",
   "execution_count": 49,
   "id": "546ce3ee",
   "metadata": {},
   "outputs": [],
   "source": [
    "def wisdom_multiplication(x, y, length_check = True):\n",
    "    first_nums = str(100 - ((100 - x) + (100 - y)))\n",
    "    last_nums = str((100 - x) * (100 - y))\n",
    "    if length_check and len(last_nums) == 1:\n",
    "        last_nums = '0' + last_nums\n",
    "    return str(first_nums) + str(last_nums)"
   ]
  },
  {
   "cell_type": "code",
   "execution_count": 50,
   "id": "d7d448e9",
   "metadata": {},
   "outputs": [
    {
     "data": {
      "text/plain": [
       "'-808100'"
      ]
     },
     "execution_count": 50,
     "metadata": {},
     "output_type": "execute_result"
    }
   ],
   "source": [
    "wisdom_multiplication(10, 10, False)"
   ]
  },
  {
   "cell_type": "code",
   "execution_count": 61,
   "id": "92b432ba",
   "metadata": {},
   "outputs": [],
   "source": [
    "def multiplication_check_list(start=10, stop=99, length_check = True):\n",
    "    res_true, res_false, res_negative = 0, 0, 0\n",
    "    for i in range(start, stop+1):\n",
    "        for j in range(start, stop+1):\n",
    "            first_nums = str(100 - ((100 - i) + (100 - j)))\n",
    "            last_nums = str((100 - i) * (100 - j))\n",
    "            if length_check and len(last_nums) == 1:\n",
    "                last_nums = '0' + last_nums\n",
    "            full_nums = first_nums + last_nums\n",
    "#             print(full_nums, '==', str(i * j))\n",
    "            if int(full_nums) == i * j:\n",
    "                res_true += 1\n",
    "            else:\n",
    "                res_false += 1\n",
    "            if int(full_nums) < 0:\n",
    "                res_negative += 1\n",
    "    print('Правильных результатов:', res_true)\n",
    "    print('Неправильных результатов:', res_false)\n",
    "    print(res_negative)"
   ]
  },
  {
   "cell_type": "code",
   "execution_count": 62,
   "id": "6feaa012",
   "metadata": {},
   "outputs": [
    {
     "name": "stdout",
     "output_type": "stream",
     "text": [
      "Правильных результатов: 536\n",
      "Неправильных результатов: 7564\n",
      "3240\n"
     ]
    }
   ],
   "source": [
    "multiplication_check_list()"
   ]
  },
  {
   "cell_type": "code",
   "execution_count": null,
   "id": "7cd98e60",
   "metadata": {},
   "outputs": [],
   "source": []
  }
 ],
 "metadata": {
  "kernelspec": {
   "display_name": "Python 3 (ipykernel)",
   "language": "python",
   "name": "python3"
  },
  "language_info": {
   "codemirror_mode": {
    "name": "ipython",
    "version": 3
   },
   "file_extension": ".py",
   "mimetype": "text/x-python",
   "name": "python",
   "nbconvert_exporter": "python",
   "pygments_lexer": "ipython3",
   "version": "3.9.12"
  }
 },
 "nbformat": 4,
 "nbformat_minor": 5
}
